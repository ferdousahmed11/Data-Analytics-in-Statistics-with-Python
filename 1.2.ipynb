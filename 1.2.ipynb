{
 "cells": [
  {
   "cell_type": "code",
   "execution_count": 1,
   "outputs": [],
   "source": [
    "# Problem 2: Define Different types of data and find out the categories\n",
    "\n",
    "# Given data\n",
    "marks_selected = [\n",
    "    78, 70, 80, 52, 91, 47, 92, 34, 31, 73,\n",
    "    64, 40, 35, 70, 67, 73, 99, 76, 53, 53,\n",
    "    31, 98, 71, 94, 53, 98, 43, 36, 97, 44,\n",
    "    92, 91, 89, 80, 57, 78, 58, 76, 65, 99,\n",
    "    40, 68, 95, 36, 71, 55, 91, 98, 93, 35,\n",
    "    89, 39, 58, 41, 90, 76, 60, 74, 89, 74,\n",
    "    84, 87, 77, 57, 56, 68, 86, 69, 31, 77\n",
    "]"
   ],
   "metadata": {
    "collapsed": false,
    "ExecuteTime": {
     "end_time": "2023-08-05T17:15:14.931600400Z",
     "start_time": "2023-08-05T17:15:14.920594800Z"
    }
   }
  },
  {
   "cell_type": "code",
   "execution_count": 2,
   "outputs": [
    {
     "name": "stdout",
     "output_type": "stream",
     "text": [
      "Categorical Data: []\n",
      "Numerical Data: [78, 70, 80, 52, 91, 47, 92, 34, 31, 73, 64, 40, 35, 70, 67, 73, 99, 76, 53, 53, 31, 98, 71, 94, 53, 98, 43, 36, 97, 44, 92, 91, 89, 80, 57, 78, 58, 76, 65, 99, 40, 68, 95, 36, 71, 55, 91, 98, 93, 35, 89, 39, 58, 41, 90, 76, 60, 74, 89, 74, 84, 87, 77, 57, 56, 68, 86, 69, 31, 77]\n"
     ]
    }
   ],
   "source": [
    "# Categorical Data: None in the given data (no explicit categories mentioned)\n",
    "categorical_data = []\n",
    "\n",
    "# Numerical Data: Marks of students (ratio data)\n",
    "numerical_data = marks_selected\n",
    "\n",
    "print(\"Categorical Data:\", categorical_data)\n",
    "print(\"Numerical Data:\", numerical_data)"
   ],
   "metadata": {
    "collapsed": false,
    "ExecuteTime": {
     "end_time": "2023-08-05T17:15:38.072602900Z",
     "start_time": "2023-08-05T17:15:38.065497600Z"
    }
   }
  },
  {
   "cell_type": "code",
   "execution_count": null,
   "outputs": [],
   "source": [],
   "metadata": {
    "collapsed": false
   }
  }
 ],
 "metadata": {
  "kernelspec": {
   "display_name": "Python 3",
   "language": "python",
   "name": "python3"
  },
  "language_info": {
   "codemirror_mode": {
    "name": "ipython",
    "version": 2
   },
   "file_extension": ".py",
   "mimetype": "text/x-python",
   "name": "python",
   "nbconvert_exporter": "python",
   "pygments_lexer": "ipython2",
   "version": "2.7.6"
  }
 },
 "nbformat": 4,
 "nbformat_minor": 0
}
