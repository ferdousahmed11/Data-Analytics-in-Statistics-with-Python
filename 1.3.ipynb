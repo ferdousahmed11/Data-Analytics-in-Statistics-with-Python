{
 "cells": [
  {
   "cell_type": "code",
   "execution_count": 1,
   "outputs": [],
   "source": [
    "# Problem 3: What do you mean by group and ungroup data? Find out the frequency of given data\n",
    "\n",
    "# Given data\n",
    "marks_selected = [\n",
    "    78, 70, 80, 52, 91, 47, 92, 34, 31, 73,\n",
    "    64, 40, 35, 70, 67, 73, 99, 76, 53, 53,\n",
    "    31, 98, 71, 94, 53, 98, 43, 36, 97, 44,\n",
    "    92, 91, 89, 80, 57, 78, 58, 76, 65, 99,\n",
    "    40, 68, 95, 36, 71, 55, 91, 98, 93, 35,\n",
    "    89, 39, 58, 41, 90, 76, 60, 74, 89, 74,\n",
    "    84, 87, 77, 57, 56, 68, 86, 69, 31, 77\n",
    "]"
   ],
   "metadata": {
    "collapsed": false,
    "ExecuteTime": {
     "end_time": "2023-08-05T17:16:37.318540400Z",
     "start_time": "2023-08-05T17:16:37.316586900Z"
    }
   }
  },
  {
   "cell_type": "code",
   "execution_count": 2,
   "outputs": [
    {
     "name": "stdout",
     "output_type": "stream",
     "text": [
      "Grouped Data:\n",
      "30 - 39: 9\n",
      "40 - 49: 6\n",
      "50 - 59: 10\n",
      "60 - 69: 7\n",
      "70 - 79: 15\n",
      "80 - 89: 8\n",
      "90 - 99: 15\n"
     ]
    }
   ],
   "source": [
    "# Grouping the data (assuming intervals of width 10)\n",
    "grouped_data = {}\n",
    "for num in marks_selected:\n",
    "    interval = (num // 10) * 10\n",
    "    if interval in grouped_data:\n",
    "        grouped_data[interval] += 1\n",
    "    else:\n",
    "        grouped_data[interval] = 1\n",
    "\n",
    "print(\"Grouped Data:\")\n",
    "for interval, frequency in sorted(grouped_data.items()):\n",
    "    print(f\"{interval} - {interval + 9}: {frequency}\")"
   ],
   "metadata": {
    "collapsed": false,
    "ExecuteTime": {
     "end_time": "2023-08-05T17:16:37.557907Z",
     "start_time": "2023-08-05T17:16:37.328442900Z"
    }
   }
  }
 ],
 "metadata": {
  "kernelspec": {
   "display_name": "Python 3",
   "language": "python",
   "name": "python3"
  },
  "language_info": {
   "codemirror_mode": {
    "name": "ipython",
    "version": 2
   },
   "file_extension": ".py",
   "mimetype": "text/x-python",
   "name": "python",
   "nbconvert_exporter": "python",
   "pygments_lexer": "ipython2",
   "version": "2.7.6"
  }
 },
 "nbformat": 4,
 "nbformat_minor": 0
}
