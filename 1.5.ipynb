{
 "cells": [
  {
   "cell_type": "code",
   "execution_count": 3,
   "metadata": {
    "collapsed": true,
    "ExecuteTime": {
     "end_time": "2023-08-05T17:20:58.663768700Z",
     "start_time": "2023-08-05T17:20:58.653405600Z"
    }
   },
   "outputs": [],
   "source": [
    "import numpy as np"
   ]
  },
  {
   "cell_type": "code",
   "execution_count": 4,
   "outputs": [],
   "source": [
    "# Given data\n",
    "marks_selected = [\n",
    "    78, 70, 80, 52, 91, 47, 92, 34, 31, 73,\n",
    "    64, 40, 35, 70, 67, 73, 99, 76, 53, 53,\n",
    "    31, 98, 71, 94, 53, 98, 43, 36, 97, 44,\n",
    "    92, 91, 89, 80, 57, 78, 58, 76, 65, 99,\n",
    "    40, 68, 95, 36, 71, 55, 91, 98, 93, 35,\n",
    "    89, 39, 58, 41, 90, 76, 60, 74, 89, 74,\n",
    "    84, 87, 77, 57, 56, 68, 86, 69, 31, 77\n",
    "]"
   ],
   "metadata": {
    "collapsed": false,
    "ExecuteTime": {
     "end_time": "2023-08-05T17:20:58.804186300Z",
     "start_time": "2023-08-05T17:20:58.666762800Z"
    }
   }
  },
  {
   "cell_type": "code",
   "execution_count": 5,
   "outputs": [],
   "source": [
    "# Inclusive and Exclusive Grouping\n",
    "grouped_data_inclusive = {}\n",
    "grouped_data_exclusive = {}"
   ],
   "metadata": {
    "collapsed": false,
    "ExecuteTime": {
     "end_time": "2023-08-05T17:20:58.925295200Z",
     "start_time": "2023-08-05T17:20:58.807179400Z"
    }
   }
  },
  {
   "cell_type": "code",
   "execution_count": 6,
   "outputs": [
    {
     "name": "stdout",
     "output_type": "stream",
     "text": [
      "Inclusive Grouped Data:\n",
      "30 - 39: 9\n",
      "40 - 49: 6\n",
      "50 - 59: 10\n",
      "60 - 69: 7\n",
      "70 - 79: 15\n",
      "80 - 89: 8\n",
      "90 - 99: 15\n",
      "\n",
      "Exclusive Grouped Data:\n",
      "31 - 40: 11\n",
      "41 - 50: 4\n",
      "51 - 60: 11\n",
      "61 - 70: 8\n",
      "71 - 80: 15\n",
      "81 - 90: 7\n",
      "91 - 100: 14\n"
     ]
    }
   ],
   "source": [
    "# Assuming intervals of width 10\n",
    "for num in marks_selected:\n",
    "    interval_inclusive = (num // 10) * 10\n",
    "    interval_exclusive = ((num - 1) // 10) * 10 + 1\n",
    "    if interval_inclusive in grouped_data_inclusive:\n",
    "        grouped_data_inclusive[interval_inclusive] += 1\n",
    "    else:\n",
    "        grouped_data_inclusive[interval_inclusive] = 1\n",
    "\n",
    "    if interval_exclusive in grouped_data_exclusive:\n",
    "        grouped_data_exclusive[interval_exclusive] += 1\n",
    "    else:\n",
    "        grouped_data_exclusive[interval_exclusive] = 1\n",
    "\n",
    "print(\"Inclusive Grouped Data:\")\n",
    "for interval, frequency in sorted(grouped_data_inclusive.items()):\n",
    "    print(f\"{interval} - {interval + 9}: {frequency}\")\n",
    "\n",
    "print(\"\\nExclusive Grouped Data:\")\n",
    "for interval, frequency in sorted(grouped_data_exclusive.items()):\n",
    "    print(f\"{interval} - {interval + 9}: {frequency}\")"
   ],
   "metadata": {
    "collapsed": false,
    "ExecuteTime": {
     "end_time": "2023-08-05T17:20:59.061922300Z",
     "start_time": "2023-08-05T17:20:58.929279500Z"
    }
   }
  },
  {
   "cell_type": "code",
   "execution_count": 7,
   "outputs": [],
   "source": [
    "# Problem 5: Calculate the Mean, Quartile, Decile, Percentile, Skewness, Moment, and Kurtosis of the calculated group data\n",
    "\n",
    "# Calculating the statistics for grouped data\n",
    "grouped_data_values = list(grouped_data_inclusive.keys())\n",
    "grouped_data_frequencies = list(grouped_data_inclusive.values())"
   ],
   "metadata": {
    "collapsed": false,
    "ExecuteTime": {
     "end_time": "2023-08-05T17:20:59.189818700Z",
     "start_time": "2023-08-05T17:20:59.063917600Z"
    }
   }
  },
  {
   "cell_type": "code",
   "execution_count": 8,
   "outputs": [],
   "source": [
    "# Measures of Central Tendency\n",
    "mean_grouped = np.average(grouped_data_values, weights=grouped_data_frequencies)\n",
    "median_grouped = np.percentile(grouped_data_values, 50, interpolation='linear')\n",
    "quartiles_grouped = np.percentile(grouped_data_values, [25, 50, 75], interpolation='linear')\n",
    "deciles_grouped = np.percentile(grouped_data_values, np.arange(10, 100, 10), interpolation='linear')\n",
    "percentiles_grouped = np.percentile(grouped_data_values, np.arange(1, 100), interpolation='linear')"
   ],
   "metadata": {
    "collapsed": false,
    "ExecuteTime": {
     "end_time": "2023-08-05T17:21:20.566194200Z",
     "start_time": "2023-08-05T17:21:20.543067300Z"
    }
   }
  },
  {
   "cell_type": "code",
   "execution_count": 9,
   "outputs": [],
   "source": [
    "# Skewness and Kurtosis\n",
    "skewness_grouped = np.mean((grouped_data_values - mean_grouped) ** 3) / np.power(np.var(grouped_data_values), 1.5)\n",
    "kurtosis_grouped = np.mean((grouped_data_values - mean_grouped) ** 4) / np.power(np.var(grouped_data_values), 2)"
   ],
   "metadata": {
    "collapsed": false,
    "ExecuteTime": {
     "end_time": "2023-08-05T17:21:38.907680400Z",
     "start_time": "2023-08-05T17:21:38.886053400Z"
    }
   }
  },
  {
   "cell_type": "code",
   "execution_count": 10,
   "outputs": [
    {
     "name": "stdout",
     "output_type": "stream",
     "text": [
      "Mean (Grouped): 63.857142857142854\n",
      "Median (Grouped): 60.0\n",
      "Quartiles (Grouped): [45. 60. 75.]\n",
      "Deciles (Grouped): [36. 42. 48. 54. 60. 66. 72. 78. 84.]\n",
      "Percentiles (Grouped): [30.6 31.2 31.8 32.4 33.  33.6 34.2 34.8 35.4 36.  36.6 37.2 37.8 38.4\n",
      " 39.  39.6 40.2 40.8 41.4 42.  42.6 43.2 43.8 44.4 45.  45.6 46.2 46.8\n",
      " 47.4 48.  48.6 49.2 49.8 50.4 51.  51.6 52.2 52.8 53.4 54.  54.6 55.2\n",
      " 55.8 56.4 57.  57.6 58.2 58.8 59.4 60.  60.6 61.2 61.8 62.4 63.  63.6\n",
      " 64.2 64.8 65.4 66.  66.6 67.2 67.8 68.4 69.  69.6 70.2 70.8 71.4 72.\n",
      " 72.6 73.2 73.8 74.4 75.  75.6 76.2 76.8 77.4 78.  78.6 79.2 79.8 80.4\n",
      " 81.  81.6 82.2 82.8 83.4 84.  84.6 85.2 85.8 86.4 87.  87.6 88.2 88.8\n",
      " 89.4]\n",
      "Skewness (Grouped): -0.5857445335276963\n",
      "Kurtosis (Grouped): 1.9745466498334023\n"
     ]
    }
   ],
   "source": [
    "print(\"Mean (Grouped):\", mean_grouped)\n",
    "print(\"Median (Grouped):\", median_grouped)\n",
    "print(\"Quartiles (Grouped):\", quartiles_grouped)\n",
    "print(\"Deciles (Grouped):\", deciles_grouped)\n",
    "print(\"Percentiles (Grouped):\", percentiles_grouped)\n",
    "print(\"Skewness (Grouped):\", skewness_grouped)\n",
    "print(\"Kurtosis (Grouped):\", kurtosis_grouped)"
   ],
   "metadata": {
    "collapsed": false,
    "ExecuteTime": {
     "end_time": "2023-08-05T17:21:47.508684600Z",
     "start_time": "2023-08-05T17:21:47.494569900Z"
    }
   }
  }
 ],
 "metadata": {
  "kernelspec": {
   "display_name": "Python 3",
   "language": "python",
   "name": "python3"
  },
  "language_info": {
   "codemirror_mode": {
    "name": "ipython",
    "version": 2
   },
   "file_extension": ".py",
   "mimetype": "text/x-python",
   "name": "python",
   "nbconvert_exporter": "python",
   "pygments_lexer": "ipython2",
   "version": "2.7.6"
  }
 },
 "nbformat": 4,
 "nbformat_minor": 0
}
