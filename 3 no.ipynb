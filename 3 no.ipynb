{
 "cells": [
  {
   "cell_type": "code",
   "execution_count": 7,
   "outputs": [
    {
     "name": "stdout",
     "output_type": "stream",
     "text": [
      "Data has been written to 'data.txt' file.\n"
     ]
    }
   ],
   "source": [
    "# Task-1\n",
    "data = \"\"\"78 70 80 52 91 47 92 34 31 73\n",
    "64 40 35 70 67 73 99 76 53 53\n",
    "31 98 71 94 53 98 43 36 97 44\n",
    "92 91 89 80 57 78 58 76 65 99\n",
    "40 68 95 36 71 55 91 98 93 35\n",
    "89 39 58 41 90 76 60 74 89 74\n",
    "84 87 77 57 56 68 86 69 31 77\"\"\"\n",
    "\n",
    "with open(\"data.txt\", \"w\") as file:\n",
    "    file.write(data)\n",
    "\n",
    "print(\"Data has been written to 'data.txt' file.\")\n"
   ],
   "metadata": {
    "collapsed": false,
    "ExecuteTime": {
     "end_time": "2023-08-05T17:04:44.812085200Z",
     "start_time": "2023-08-05T17:04:44.781356400Z"
    }
   }
  },
  {
   "cell_type": "code",
   "execution_count": 8,
   "outputs": [
    {
     "name": "stdout",
     "output_type": "stream",
     "text": [
      "Ungrouped Data List: [78, 70, 80, 52, 91, 47, 92, 34, 31, 73, 64, 40, 35, 70, 67, 73, 99, 76, 53, 53, 31, 98, 71, 94, 53, 98, 43, 36, 97, 44, 92, 91, 89, 80, 57, 78, 58, 76, 65, 99, 40, 68, 95, 36, 71, 55, 91, 98, 93, 35, 89, 39, 58, 41, 90, 76, 60, 74, 89, 74, 84, 87, 77, 57, 56, 68, 86, 69, 31, 77]\n"
     ]
    }
   ],
   "source": [
    "# Task-2\n",
    "data_list = []\n",
    "\n",
    "with open(\"data.txt\", \"r\") as file:\n",
    "    for line in file:\n",
    "        data_list.extend(map(int, line.split()))\n",
    "\n",
    "print(\"Ungrouped Data List:\", data_list)"
   ],
   "metadata": {
    "collapsed": false,
    "ExecuteTime": {
     "end_time": "2023-08-05T17:04:57.953627700Z",
     "start_time": "2023-08-05T17:04:57.937431Z"
    }
   }
  },
  {
   "cell_type": "code",
   "execution_count": 9,
   "outputs": [
    {
     "name": "stdout",
     "output_type": "stream",
     "text": [
      "Mean (AM): 68.45714285714286\n",
      "Mean (GM): 64.87740652809923\n",
      "Mean (HM): 60.924033914796475\n",
      "Mean (QM): 71.0\n",
      "Median: 71.0\n",
      "Quartiles: [53.0, 71.0, 89.0]\n",
      "Deciles: [36.0, 44.6, 56.3, 65.8, 71.0, 76.0, 82.8, 90.8, 94.9]\n",
      "Percentiles: [31.0, 31.0, 31.0, 31.0, 32.65, 34.26, 34.97, 35.0, 35.39, 36.0, 36.0, 37.56, 39.23, 39.94, 40.0, 40.36, 41.14, 42.56, 43.49, 44.6, 46.73, 50.1, 52.33, 53.0, 53.0, 53.0, 53.34, 54.76, 55.59, 56.3, 57.0, 57.0, 57.43, 58.0, 58.0, 59.12, 61.08, 63.92, 64.69, 65.8, 67.11, 67.82, 68.0, 68.24, 68.95, 69.66, 70.0, 70.08, 70.79, 71.0, 71.42, 72.84, 73.0, 73.34, 74.0, 74.0, 74.94, 76.0, 76.0, 76.0, 76.31, 77.0, 77.0, 77.44, 78.0, 78.0, 79.14, 80.0, 80.0, 82.8, 84.82, 86.12, 86.83, 88.08, 89.0, 89.0, 89.0, 89.38, 90.09, 90.8, 91.0, 91.0, 91.0, 91.64, 92.0, 92.06, 92.77, 93.48, 94.19, 94.9, 96.22, 97.32, 98.0, 98.0, 98.0, 98.16, 98.87, 99.0, 99.0]\n",
      "Mode: 91\n",
      "Range: 68\n",
      "Interquartile Range: 36.0\n",
      "Quartile Deviation: 18.0\n",
      "Mean Deviation: 17.576326530612246\n",
      "Standard Deviation: 20.85191800463568\n",
      "Skewness: -0.2793382401150102\n",
      "Kurtosis: -1.0954993817345033\n"
     ]
    }
   ],
   "source": [
    "import statistics\n",
    "from scipy.stats import skew, kurtosis\n",
    "\n",
    "# Task-3\n",
    "# Measures of Central Tendency\n",
    "mean_am = statistics.mean(data_list)\n",
    "mean_gm = statistics.geometric_mean(data_list)\n",
    "mean_hm = statistics.harmonic_mean(data_list)\n",
    "mean_qm = statistics.median(data_list)\n",
    "\n",
    "# Measures of Spread\n",
    "median = statistics.median(data_list)\n",
    "quartiles = statistics.quantiles(data_list, n=4)\n",
    "deciles = statistics.quantiles(data_list, n=10)\n",
    "percentiles = statistics.quantiles(data_list, n=100)\n",
    "\n",
    "# Mode\n",
    "mode = statistics.mode(data_list)\n",
    "\n",
    "# Range\n",
    "data_range = max(data_list) - min(data_list)\n",
    "\n",
    "# Interquartile Range\n",
    "iqr = quartiles[2] - quartiles[0]\n",
    "\n",
    "# Quartile Deviation\n",
    "quartile_deviation = iqr / 2\n",
    "\n",
    "# Mean Deviation\n",
    "mean_deviation = statistics.mean([abs(x - mean_am) for x in data_list])\n",
    "\n",
    "# Standard Deviation\n",
    "standard_deviation = statistics.stdev(data_list)\n",
    "\n",
    "# Skewness and Kurtosis\n",
    "skewness = skew(data_list)\n",
    "kurtosis_value = kurtosis(data_list)\n",
    "\n",
    "print(\"Mean (AM):\", mean_am)\n",
    "print(\"Mean (GM):\", mean_gm)\n",
    "print(\"Mean (HM):\", mean_hm)\n",
    "print(\"Mean (QM):\", mean_qm)\n",
    "print(\"Median:\", median)\n",
    "print(\"Quartiles:\", quartiles)\n",
    "print(\"Deciles:\", deciles)\n",
    "print(\"Percentiles:\", percentiles)\n",
    "print(\"Mode:\", mode)\n",
    "print(\"Range:\", data_range)\n",
    "print(\"Interquartile Range:\", iqr)\n",
    "print(\"Quartile Deviation:\", quartile_deviation)\n",
    "print(\"Mean Deviation:\", mean_deviation)\n",
    "print(\"Standard Deviation:\", standard_deviation)\n",
    "print(\"Skewness:\", skewness)\n",
    "print(\"Kurtosis:\", kurtosis_value)"
   ],
   "metadata": {
    "collapsed": false,
    "ExecuteTime": {
     "end_time": "2023-08-05T17:05:08.224901800Z",
     "start_time": "2023-08-05T17:05:08.181192300Z"
    }
   }
  },
  {
   "cell_type": "code",
   "execution_count": 10,
   "outputs": [
    {
     "name": "stdout",
     "output_type": "stream",
     "text": [
      "Grouped Data:\n",
      "30 - 39: 9\n",
      "40 - 49: 6\n",
      "50 - 59: 10\n",
      "60 - 69: 7\n",
      "70 - 79: 15\n",
      "80 - 89: 8\n",
      "90 - 99: 15\n"
     ]
    }
   ],
   "source": [
    "# Task-4\n",
    "# Assuming intervals of width 10, starting from 30 to 100\n",
    "grouped_data = {}\n",
    "for num in data_list:\n",
    "    interval = (num // 10) * 10\n",
    "    if interval in grouped_data:\n",
    "        grouped_data[interval] += 1\n",
    "    else:\n",
    "        grouped_data[interval] = 1\n",
    "\n",
    "print(\"Grouped Data:\")\n",
    "for interval, frequency in sorted(grouped_data.items()):\n",
    "    print(f\"{interval} - {interval + 9}: {frequency}\")"
   ],
   "metadata": {
    "collapsed": false,
    "ExecuteTime": {
     "end_time": "2023-08-05T17:05:25.479954100Z",
     "start_time": "2023-08-05T17:05:25.455799500Z"
    }
   }
  },
  {
   "cell_type": "code",
   "execution_count": 11,
   "outputs": [
    {
     "name": "stdout",
     "output_type": "stream",
     "text": [
      "Mean (AM) (Grouped): 63.857142857142854\n",
      "Mean (GM) (Grouped): 56.39590583856198\n",
      "Mean (HM) (Grouped): 52.67243953418931\n",
      "Mean (QM) (Grouped): 60.0\n",
      "Median (Grouped): 60.0\n",
      "Quartiles (Grouped): [45. 60. 75.]\n",
      "Deciles (Grouped): [36. 42. 48. 54. 60. 66. 72. 78. 84.]\n",
      "Percentiles (Grouped): [30.6 31.2 31.8 32.4 33.  33.6 34.2 34.8 35.4 36.  36.6 37.2 37.8 38.4\n",
      " 39.  39.6 40.2 40.8 41.4 42.  42.6 43.2 43.8 44.4 45.  45.6 46.2 46.8\n",
      " 47.4 48.  48.6 49.2 49.8 50.4 51.  51.6 52.2 52.8 53.4 54.  54.6 55.2\n",
      " 55.8 56.4 57.  57.6 58.2 58.8 59.4 60.  60.6 61.2 61.8 62.4 63.  63.6\n",
      " 64.2 64.8 65.4 66.  66.6 67.2 67.8 68.4 69.  69.6 70.2 70.8 71.4 72.\n",
      " 72.6 73.2 73.8 74.4 75.  75.6 76.2 76.8 77.4 78.  78.6 79.2 79.8 80.4\n",
      " 81.  81.6 82.2 82.8 83.4 84.  84.6 85.2 85.8 86.4 87.  87.6 88.2 88.8\n",
      " 89.4]\n",
      "Mode (Grouped): 70\n",
      "Range (Grouped): 60\n",
      "Interquartile Range (Grouped): 30.0\n",
      "Quartile Deviation (Grouped): 15.0\n",
      "Mean Deviation (Grouped): 17.526530612244894\n",
      "Standard Deviation (Grouped): 20.233837087050645\n",
      "Skewness (Grouped): 0.0\n",
      "Kurtosis (Grouped): 1.75\n"
     ]
    }
   ],
   "source": [
    "import numpy as np\n",
    "\n",
    "# Task-5\n",
    "# Measures of Central Tendency\n",
    "grouped_data_values = []\n",
    "grouped_data_frequencies = []\n",
    "\n",
    "for interval, frequency in grouped_data.items():\n",
    "    grouped_data_values.append(interval)\n",
    "    grouped_data_frequencies.append(frequency)\n",
    "\n",
    "mean_am_grouped = np.average(grouped_data_values, weights=grouped_data_frequencies)\n",
    "mean_gm_grouped = statistics.geometric_mean(grouped_data_values)\n",
    "mean_hm_grouped = statistics.harmonic_mean(grouped_data_values)\n",
    "mean_qm_grouped = np.percentile(grouped_data_values, 50, interpolation='linear', axis=None)\n",
    "\n",
    "# Measures of Spread\n",
    "median_grouped = np.percentile(grouped_data_values, 50, interpolation='linear', axis=None)\n",
    "quartiles_grouped = np.percentile(grouped_data_values, [25, 50, 75], interpolation='linear', axis=None)\n",
    "deciles_grouped = np.percentile(grouped_data_values, np.arange(10, 100, 10), interpolation='linear', axis=None)\n",
    "percentiles_grouped = np.percentile(grouped_data_values, np.arange(1, 100), interpolation='linear', axis=None)\n",
    "\n",
    "# Mode\n",
    "mode_grouped = grouped_data_values[np.argmax(grouped_data_frequencies)]\n",
    "\n",
    "# Range\n",
    "data_range_grouped = max(grouped_data_values) - min(grouped_data_values)\n",
    "\n",
    "# Interquartile Range\n",
    "iqr_grouped = quartiles_grouped[2] - quartiles_grouped[0]\n",
    "\n",
    "# Quartile Deviation\n",
    "quartile_deviation_grouped = iqr_grouped / 2\n",
    "\n",
    "# Mean Deviation\n",
    "mean_deviation_grouped = np.average(np.abs(np.subtract(grouped_data_values, mean_am_grouped)), weights=grouped_data_frequencies)\n",
    "\n",
    "# Standard Deviation\n",
    "standard_deviation_grouped = np.sqrt(np.average((grouped_data_values - mean_am_grouped)**2, weights=grouped_data_frequencies))\n",
    "\n",
    "# Skewness and Kurtosis\n",
    "skewness_grouped = skew(grouped_data_values, bias=False)\n",
    "kurtosis_value_grouped = kurtosis(grouped_data_values, fisher=False)\n",
    "\n",
    "print(\"Mean (AM) (Grouped):\", mean_am_grouped)\n",
    "print(\"Mean (GM) (Grouped):\", mean_gm_grouped)\n",
    "print(\"Mean (HM) (Grouped):\", mean_hm_grouped)\n",
    "print(\"Mean (QM) (Grouped):\", mean_qm_grouped)\n",
    "print(\"Median (Grouped):\", median_grouped)\n",
    "print(\"Quartiles (Grouped):\", quartiles_grouped)\n",
    "print(\"Deciles (Grouped):\", deciles_grouped)\n",
    "print(\"Percentiles (Grouped):\", percentiles_grouped)\n",
    "print(\"Mode (Grouped):\", mode_grouped)\n",
    "print(\"Range (Grouped):\", data_range_grouped)\n",
    "print(\"Interquartile Range (Grouped):\", iqr_grouped)\n",
    "print(\"Quartile Deviation (Grouped):\", quartile_deviation_grouped)\n",
    "print(\"Mean Deviation (Grouped):\", mean_deviation_grouped)\n",
    "print(\"Standard Deviation (Grouped):\", standard_deviation_grouped)\n",
    "print(\"Skewness (Grouped):\", skewness_grouped)\n",
    "print(\"Kurtosis (Grouped):\", kurtosis_value_grouped)"
   ],
   "metadata": {
    "collapsed": false,
    "ExecuteTime": {
     "end_time": "2023-08-05T17:05:37.530140100Z",
     "start_time": "2023-08-05T17:05:37.416493700Z"
    }
   }
  },
  {
   "cell_type": "code",
   "execution_count": null,
   "outputs": [],
   "source": [],
   "metadata": {
    "collapsed": false
   }
  }
 ],
 "metadata": {
  "kernelspec": {
   "display_name": "Python 3",
   "language": "python",
   "name": "python3"
  },
  "language_info": {
   "codemirror_mode": {
    "name": "ipython",
    "version": 2
   },
   "file_extension": ".py",
   "mimetype": "text/x-python",
   "name": "python",
   "nbconvert_exporter": "python",
   "pygments_lexer": "ipython2",
   "version": "2.7.6"
  }
 },
 "nbformat": 4,
 "nbformat_minor": 0
}
