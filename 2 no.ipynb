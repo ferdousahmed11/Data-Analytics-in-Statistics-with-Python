{
 "cells": [
  {
   "cell_type": "code",
   "execution_count": 1,
   "metadata": {
    "collapsed": true,
    "ExecuteTime": {
     "end_time": "2023-08-05T17:08:47.742924100Z",
     "start_time": "2023-08-05T17:08:47.632350200Z"
    }
   },
   "outputs": [],
   "source": [
    "import numpy as np"
   ]
  },
  {
   "cell_type": "code",
   "execution_count": 2,
   "outputs": [],
   "source": [
    "# Create a list of prices\n",
    "prices = [20, 40, 40, 60, 60, 60, 60, 60, 70, 70]"
   ],
   "metadata": {
    "collapsed": false,
    "ExecuteTime": {
     "end_time": "2023-08-05T17:09:05.051711800Z",
     "start_time": "2023-08-05T17:09:05.039636Z"
    }
   }
  },
  {
   "cell_type": "code",
   "execution_count": 3,
   "outputs": [],
   "source": [
    "# Calculate the median price\n",
    "median_price = np.median(prices)"
   ],
   "metadata": {
    "collapsed": false,
    "ExecuteTime": {
     "end_time": "2023-08-05T17:09:15.266964300Z",
     "start_time": "2023-08-05T17:09:15.245573200Z"
    }
   }
  },
  {
   "cell_type": "code",
   "execution_count": 4,
   "outputs": [
    {
     "name": "stdout",
     "output_type": "stream",
     "text": [
      "Median price: 60.0\n"
     ]
    }
   ],
   "source": [
    "# Print the median price\n",
    "print(\"Median price:\", median_price)"
   ],
   "metadata": {
    "collapsed": false,
    "ExecuteTime": {
     "end_time": "2023-08-05T17:09:27.055233500Z",
     "start_time": "2023-08-05T17:09:27.040608200Z"
    }
   }
  },
  {
   "cell_type": "code",
   "execution_count": 5,
   "outputs": [],
   "source": [
    "# Create a list of prices\n",
    "prices = [20, 40, 40, 60, 60, 60, 60, 60, 70, 70]"
   ],
   "metadata": {
    "collapsed": false,
    "ExecuteTime": {
     "end_time": "2023-08-05T17:09:50.121197800Z",
     "start_time": "2023-08-05T17:09:50.094046100Z"
    }
   }
  },
  {
   "cell_type": "code",
   "execution_count": 6,
   "outputs": [],
   "source": [
    "# Calculate the maximum price\n",
    "maximum_price = np.max(prices)"
   ],
   "metadata": {
    "collapsed": false,
    "ExecuteTime": {
     "end_time": "2023-08-05T17:09:59.242857800Z",
     "start_time": "2023-08-05T17:09:59.214718500Z"
    }
   }
  },
  {
   "cell_type": "code",
   "execution_count": 7,
   "outputs": [
    {
     "name": "stdout",
     "output_type": "stream",
     "text": [
      "Broker's prediction is correct.\n"
     ]
    }
   ],
   "source": [
    "if maximum_price <= 70:\n",
    "    print(\"Broker's prediction is correct.\")\n",
    "else:\n",
    "    print(\"Broker's prediction is incorrect.\")"
   ],
   "metadata": {
    "collapsed": false,
    "ExecuteTime": {
     "end_time": "2023-08-05T17:10:29.906657500Z",
     "start_time": "2023-08-05T17:10:29.894586200Z"
    }
   }
  }
 ],
 "metadata": {
  "kernelspec": {
   "display_name": "Python 3",
   "language": "python",
   "name": "python3"
  },
  "language_info": {
   "codemirror_mode": {
    "name": "ipython",
    "version": 2
   },
   "file_extension": ".py",
   "mimetype": "text/x-python",
   "name": "python",
   "nbconvert_exporter": "python",
   "pygments_lexer": "ipython2",
   "version": "2.7.6"
  }
 },
 "nbformat": 4,
 "nbformat_minor": 0
}
