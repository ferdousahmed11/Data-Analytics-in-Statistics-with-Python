{
 "cells": [
  {
   "cell_type": "code",
   "execution_count": 1,
   "metadata": {
    "collapsed": true,
    "ExecuteTime": {
     "end_time": "2023-08-05T17:17:32.915006600Z",
     "start_time": "2023-08-05T17:17:32.907725400Z"
    }
   },
   "outputs": [],
   "source": [
    "# Problem 4: Define inclusive and exclusive method and convert the given data into group data\n",
    "\n",
    "# Given data\n",
    "marks_selected = [\n",
    "    78, 70, 80, 52, 91, 47, 92, 34, 31, 73,\n",
    "    64, 40, 35, 70, 67, 73, 99, 76, 53, 53,\n",
    "    31, 98, 71, 94, 53, 98, 43, 36, 97, 44,\n",
    "    92, 91, 89, 80, 57, 78, 58, 76, 65, 99,\n",
    "    40, 68, 95, 36, 71, 55, 91, 98, 93, 35,\n",
    "    89, 39, 58, 41, 90, 76, 60, 74, 89, 74,\n",
    "    84, 87, 77, 57, 56, 68, 86, 69, 31, 77\n",
    "]"
   ]
  },
  {
   "cell_type": "code",
   "execution_count": 2,
   "outputs": [],
   "source": [
    "# Inclusive and Exclusive Grouping\n",
    "grouped_data_inclusive = {}\n",
    "grouped_data_exclusive = {}"
   ],
   "metadata": {
    "collapsed": false,
    "ExecuteTime": {
     "end_time": "2023-08-05T17:17:42.959213300Z",
     "start_time": "2023-08-05T17:17:42.952112Z"
    }
   }
  },
  {
   "cell_type": "code",
   "execution_count": 3,
   "outputs": [
    {
     "name": "stdout",
     "output_type": "stream",
     "text": [
      "Inclusive Grouped Data:\n",
      "30 - 39: 9\n",
      "40 - 49: 6\n",
      "50 - 59: 10\n",
      "60 - 69: 7\n",
      "70 - 79: 15\n",
      "80 - 89: 8\n",
      "90 - 99: 15\n",
      "\n",
      "Exclusive Grouped Data:\n",
      "31 - 40: 11\n",
      "41 - 50: 4\n",
      "51 - 60: 11\n",
      "61 - 70: 8\n",
      "71 - 80: 15\n",
      "81 - 90: 7\n",
      "91 - 100: 14\n"
     ]
    }
   ],
   "source": [
    "# Assuming intervals of width 10\n",
    "for num in marks_selected:\n",
    "    interval_inclusive = (num // 10) * 10\n",
    "    interval_exclusive = ((num - 1) // 10) * 10 + 1\n",
    "    if interval_inclusive in grouped_data_inclusive:\n",
    "        grouped_data_inclusive[interval_inclusive] += 1\n",
    "    else:\n",
    "        grouped_data_inclusive[interval_inclusive] = 1\n",
    "\n",
    "    if interval_exclusive in grouped_data_exclusive:\n",
    "        grouped_data_exclusive[interval_exclusive] += 1\n",
    "    else:\n",
    "        grouped_data_exclusive[interval_exclusive] = 1\n",
    "\n",
    "print(\"Inclusive Grouped Data:\")\n",
    "for interval, frequency in sorted(grouped_data_inclusive.items()):\n",
    "    print(f\"{interval} - {interval + 9}: {frequency}\")\n",
    "\n",
    "print(\"\\nExclusive Grouped Data:\")\n",
    "for interval, frequency in sorted(grouped_data_exclusive.items()):\n",
    "    print(f\"{interval} - {interval + 9}: {frequency}\")"
   ],
   "metadata": {
    "collapsed": false,
    "ExecuteTime": {
     "end_time": "2023-08-05T17:18:02.465746800Z",
     "start_time": "2023-08-05T17:18:02.448664Z"
    }
   }
  }
 ],
 "metadata": {
  "kernelspec": {
   "display_name": "Python 3",
   "language": "python",
   "name": "python3"
  },
  "language_info": {
   "codemirror_mode": {
    "name": "ipython",
    "version": 2
   },
   "file_extension": ".py",
   "mimetype": "text/x-python",
   "name": "python",
   "nbconvert_exporter": "python",
   "pygments_lexer": "ipython2",
   "version": "2.7.6"
  }
 },
 "nbformat": 4,
 "nbformat_minor": 0
}
